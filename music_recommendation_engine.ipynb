{
 "cells": [
  {
   "cell_type": "code",
   "execution_count": 456,
   "id": "6ae34763",
   "metadata": {},
   "outputs": [
    {
     "data": {
      "text/html": [
       "<div>\n",
       "<style scoped>\n",
       "    .dataframe tbody tr th:only-of-type {\n",
       "        vertical-align: middle;\n",
       "    }\n",
       "\n",
       "    .dataframe tbody tr th {\n",
       "        vertical-align: top;\n",
       "    }\n",
       "\n",
       "    .dataframe thead th {\n",
       "        text-align: right;\n",
       "    }\n",
       "</style>\n",
       "<table border=\"1\" class=\"dataframe\">\n",
       "  <thead>\n",
       "    <tr style=\"text-align: right;\">\n",
       "      <th></th>\n",
       "      <th>age</th>\n",
       "      <th>gender</th>\n",
       "      <th>genre</th>\n",
       "    </tr>\n",
       "  </thead>\n",
       "  <tbody>\n",
       "    <tr>\n",
       "      <th>0</th>\n",
       "      <td>20</td>\n",
       "      <td>1</td>\n",
       "      <td>HipHop</td>\n",
       "    </tr>\n",
       "    <tr>\n",
       "      <th>1</th>\n",
       "      <td>23</td>\n",
       "      <td>1</td>\n",
       "      <td>HipHop</td>\n",
       "    </tr>\n",
       "    <tr>\n",
       "      <th>2</th>\n",
       "      <td>25</td>\n",
       "      <td>1</td>\n",
       "      <td>HipHop</td>\n",
       "    </tr>\n",
       "    <tr>\n",
       "      <th>3</th>\n",
       "      <td>26</td>\n",
       "      <td>1</td>\n",
       "      <td>Jazz</td>\n",
       "    </tr>\n",
       "    <tr>\n",
       "      <th>4</th>\n",
       "      <td>29</td>\n",
       "      <td>1</td>\n",
       "      <td>Jazz</td>\n",
       "    </tr>\n",
       "    <tr>\n",
       "      <th>5</th>\n",
       "      <td>30</td>\n",
       "      <td>1</td>\n",
       "      <td>Jazz</td>\n",
       "    </tr>\n",
       "    <tr>\n",
       "      <th>6</th>\n",
       "      <td>31</td>\n",
       "      <td>1</td>\n",
       "      <td>Classical</td>\n",
       "    </tr>\n",
       "    <tr>\n",
       "      <th>7</th>\n",
       "      <td>33</td>\n",
       "      <td>1</td>\n",
       "      <td>Classical</td>\n",
       "    </tr>\n",
       "    <tr>\n",
       "      <th>8</th>\n",
       "      <td>37</td>\n",
       "      <td>1</td>\n",
       "      <td>Classical</td>\n",
       "    </tr>\n",
       "    <tr>\n",
       "      <th>9</th>\n",
       "      <td>20</td>\n",
       "      <td>0</td>\n",
       "      <td>Dance</td>\n",
       "    </tr>\n",
       "    <tr>\n",
       "      <th>10</th>\n",
       "      <td>21</td>\n",
       "      <td>0</td>\n",
       "      <td>Dance</td>\n",
       "    </tr>\n",
       "    <tr>\n",
       "      <th>11</th>\n",
       "      <td>25</td>\n",
       "      <td>0</td>\n",
       "      <td>Dance</td>\n",
       "    </tr>\n",
       "    <tr>\n",
       "      <th>12</th>\n",
       "      <td>26</td>\n",
       "      <td>0</td>\n",
       "      <td>Acoustic</td>\n",
       "    </tr>\n",
       "    <tr>\n",
       "      <th>13</th>\n",
       "      <td>27</td>\n",
       "      <td>0</td>\n",
       "      <td>Acoustic</td>\n",
       "    </tr>\n",
       "    <tr>\n",
       "      <th>14</th>\n",
       "      <td>30</td>\n",
       "      <td>0</td>\n",
       "      <td>Acoustic</td>\n",
       "    </tr>\n",
       "    <tr>\n",
       "      <th>15</th>\n",
       "      <td>31</td>\n",
       "      <td>0</td>\n",
       "      <td>Classical</td>\n",
       "    </tr>\n",
       "    <tr>\n",
       "      <th>16</th>\n",
       "      <td>34</td>\n",
       "      <td>0</td>\n",
       "      <td>Classical</td>\n",
       "    </tr>\n",
       "    <tr>\n",
       "      <th>17</th>\n",
       "      <td>35</td>\n",
       "      <td>0</td>\n",
       "      <td>Classical</td>\n",
       "    </tr>\n",
       "  </tbody>\n",
       "</table>\n",
       "</div>"
      ],
      "text/plain": [
       "    age  gender      genre\n",
       "0    20       1     HipHop\n",
       "1    23       1     HipHop\n",
       "2    25       1     HipHop\n",
       "3    26       1       Jazz\n",
       "4    29       1       Jazz\n",
       "5    30       1       Jazz\n",
       "6    31       1  Classical\n",
       "7    33       1  Classical\n",
       "8    37       1  Classical\n",
       "9    20       0      Dance\n",
       "10   21       0      Dance\n",
       "11   25       0      Dance\n",
       "12   26       0   Acoustic\n",
       "13   27       0   Acoustic\n",
       "14   30       0   Acoustic\n",
       "15   31       0  Classical\n",
       "16   34       0  Classical\n",
       "17   35       0  Classical"
      ]
     },
     "execution_count": 456,
     "metadata": {},
     "output_type": "execute_result"
    }
   ],
   "source": [
    "import pandas as pd\n",
    "from sklearn.tree import DecisionTreeClassifier  # sklearn.tree module contains DecisionTreeClassifier class\n",
    "from sklearn.model_selection import train_test_split  # train_test_split is a function in the sklearn.model_selection module\n",
    "from sklearn.metrics import accuracy_score  # accuracy_score() returns the accruacy score after comparing 2 lists/arrays\n",
    "\n",
    "\n",
    "# \"sklearn\" is the PACKAGE which comes with scikit-learn library.. scikit library is the most popular ML library\n",
    "# in \"sklearn\" package.. we have a MODULE \"tree\".. and in module \"tree\".. we haev a CLASS DecisionTreeClassifier\n",
    "# DecisionTreeClassifier implements the Decision Tree algorithm\n",
    "\n",
    "\n",
    "df = pd.read_csv('D:\\Downloads Chrome\\music.csv')\n",
    "df"
   ]
  },
  {
   "cell_type": "code",
   "execution_count": 457,
   "id": "aa18cbb9",
   "metadata": {},
   "outputs": [
    {
     "name": "stdout",
     "output_type": "stream",
     "text": [
      "0        HipHop\n",
      "1        HipHop\n",
      "2        HipHop\n",
      "3          Jazz\n",
      "4          Jazz\n",
      "5          Jazz\n",
      "6     Classical\n",
      "7     Classical\n",
      "8     Classical\n",
      "9         Dance\n",
      "10        Dance\n",
      "11        Dance\n",
      "12     Acoustic\n",
      "13     Acoustic\n",
      "14     Acoustic\n",
      "15    Classical\n",
      "16    Classical\n",
      "17    Classical\n",
      "Name: genre, dtype: object\n"
     ]
    }
   ],
   "source": [
    "print(df.genre)"
   ]
  },
  {
   "cell_type": "code",
   "execution_count": 458,
   "id": "d1d5f91b",
   "metadata": {},
   "outputs": [
    {
     "name": "stdout",
     "output_type": "stream",
     "text": [
      "Index(['age', 'gender', 'genre'], dtype='object')\n"
     ]
    }
   ],
   "source": [
    "print(df.columns)"
   ]
  },
  {
   "cell_type": "code",
   "execution_count": 459,
   "id": "1e139c2b",
   "metadata": {},
   "outputs": [
    {
     "data": {
      "text/html": [
       "<div>\n",
       "<style scoped>\n",
       "    .dataframe tbody tr th:only-of-type {\n",
       "        vertical-align: middle;\n",
       "    }\n",
       "\n",
       "    .dataframe tbody tr th {\n",
       "        vertical-align: top;\n",
       "    }\n",
       "\n",
       "    .dataframe thead th {\n",
       "        text-align: right;\n",
       "    }\n",
       "</style>\n",
       "<table border=\"1\" class=\"dataframe\">\n",
       "  <thead>\n",
       "    <tr style=\"text-align: right;\">\n",
       "      <th></th>\n",
       "      <th>age</th>\n",
       "      <th>gender</th>\n",
       "    </tr>\n",
       "  </thead>\n",
       "  <tbody>\n",
       "    <tr>\n",
       "      <th>0</th>\n",
       "      <td>20</td>\n",
       "      <td>1</td>\n",
       "    </tr>\n",
       "    <tr>\n",
       "      <th>1</th>\n",
       "      <td>23</td>\n",
       "      <td>1</td>\n",
       "    </tr>\n",
       "    <tr>\n",
       "      <th>2</th>\n",
       "      <td>25</td>\n",
       "      <td>1</td>\n",
       "    </tr>\n",
       "    <tr>\n",
       "      <th>3</th>\n",
       "      <td>26</td>\n",
       "      <td>1</td>\n",
       "    </tr>\n",
       "    <tr>\n",
       "      <th>4</th>\n",
       "      <td>29</td>\n",
       "      <td>1</td>\n",
       "    </tr>\n",
       "    <tr>\n",
       "      <th>5</th>\n",
       "      <td>30</td>\n",
       "      <td>1</td>\n",
       "    </tr>\n",
       "    <tr>\n",
       "      <th>6</th>\n",
       "      <td>31</td>\n",
       "      <td>1</td>\n",
       "    </tr>\n",
       "    <tr>\n",
       "      <th>7</th>\n",
       "      <td>33</td>\n",
       "      <td>1</td>\n",
       "    </tr>\n",
       "    <tr>\n",
       "      <th>8</th>\n",
       "      <td>37</td>\n",
       "      <td>1</td>\n",
       "    </tr>\n",
       "    <tr>\n",
       "      <th>9</th>\n",
       "      <td>20</td>\n",
       "      <td>0</td>\n",
       "    </tr>\n",
       "    <tr>\n",
       "      <th>10</th>\n",
       "      <td>21</td>\n",
       "      <td>0</td>\n",
       "    </tr>\n",
       "    <tr>\n",
       "      <th>11</th>\n",
       "      <td>25</td>\n",
       "      <td>0</td>\n",
       "    </tr>\n",
       "    <tr>\n",
       "      <th>12</th>\n",
       "      <td>26</td>\n",
       "      <td>0</td>\n",
       "    </tr>\n",
       "    <tr>\n",
       "      <th>13</th>\n",
       "      <td>27</td>\n",
       "      <td>0</td>\n",
       "    </tr>\n",
       "    <tr>\n",
       "      <th>14</th>\n",
       "      <td>30</td>\n",
       "      <td>0</td>\n",
       "    </tr>\n",
       "    <tr>\n",
       "      <th>15</th>\n",
       "      <td>31</td>\n",
       "      <td>0</td>\n",
       "    </tr>\n",
       "    <tr>\n",
       "      <th>16</th>\n",
       "      <td>34</td>\n",
       "      <td>0</td>\n",
       "    </tr>\n",
       "    <tr>\n",
       "      <th>17</th>\n",
       "      <td>35</td>\n",
       "      <td>0</td>\n",
       "    </tr>\n",
       "  </tbody>\n",
       "</table>\n",
       "</div>"
      ],
      "text/plain": [
       "    age  gender\n",
       "0    20       1\n",
       "1    23       1\n",
       "2    25       1\n",
       "3    26       1\n",
       "4    29       1\n",
       "5    30       1\n",
       "6    31       1\n",
       "7    33       1\n",
       "8    37       1\n",
       "9    20       0\n",
       "10   21       0\n",
       "11   25       0\n",
       "12   26       0\n",
       "13   27       0\n",
       "14   30       0\n",
       "15   31       0\n",
       "16   34       0\n",
       "17   35       0"
      ]
     },
     "execution_count": 459,
     "metadata": {},
     "output_type": "execute_result"
    }
   ],
   "source": [
    "X= df.drop(columns=['genre'])  # By convention, 'X' represents our INPUT set\n",
    "X"
   ]
  },
  {
   "cell_type": "code",
   "execution_count": 460,
   "id": "aea1b408",
   "metadata": {},
   "outputs": [
    {
     "name": "stdout",
     "output_type": "stream",
     "text": [
      "0        HipHop\n",
      "1        HipHop\n",
      "2        HipHop\n",
      "3          Jazz\n",
      "4          Jazz\n",
      "5          Jazz\n",
      "6     Classical\n",
      "7     Classical\n",
      "8     Classical\n",
      "9         Dance\n",
      "10        Dance\n",
      "11        Dance\n",
      "12     Acoustic\n",
      "13     Acoustic\n",
      "14     Acoustic\n",
      "15    Classical\n",
      "16    Classical\n",
      "17    Classical\n",
      "Name: genre, dtype: object\n"
     ]
    }
   ],
   "source": [
    "y = df['genre']  # By convention, 'y' represents our OUTPUT set\n",
    "print(y)"
   ]
  },
  {
   "cell_type": "code",
   "execution_count": 461,
   "id": "ce2ee827",
   "metadata": {},
   "outputs": [
    {
     "data": {
      "text/plain": [
       "RangeIndex(start=0, stop=18, step=1)"
      ]
     },
     "execution_count": 461,
     "metadata": {},
     "output_type": "execute_result"
    }
   ],
   "source": [
    "y.index"
   ]
  },
  {
   "cell_type": "code",
   "execution_count": 462,
   "id": "7d8cb9b4",
   "metadata": {},
   "outputs": [
    {
     "data": {
      "text/plain": [
       "<bound method NDFrame.describe of 0        HipHop\n",
       "1        HipHop\n",
       "2        HipHop\n",
       "3          Jazz\n",
       "4          Jazz\n",
       "5          Jazz\n",
       "6     Classical\n",
       "7     Classical\n",
       "8     Classical\n",
       "9         Dance\n",
       "10        Dance\n",
       "11        Dance\n",
       "12     Acoustic\n",
       "13     Acoustic\n",
       "14     Acoustic\n",
       "15    Classical\n",
       "16    Classical\n",
       "17    Classical\n",
       "Name: genre, dtype: object>"
      ]
     },
     "execution_count": 462,
     "metadata": {},
     "output_type": "execute_result"
    }
   ],
   "source": [
    "y.describe"
   ]
  },
  {
   "cell_type": "code",
   "execution_count": 463,
   "id": "4b9aff45",
   "metadata": {},
   "outputs": [
    {
     "data": {
      "text/plain": [
       "array(['HipHop', 'HipHop', 'HipHop', 'Jazz', 'Jazz', 'Jazz', 'Classical',\n",
       "       'Classical', 'Classical', 'Dance', 'Dance', 'Dance', 'Acoustic',\n",
       "       'Acoustic', 'Acoustic', 'Classical', 'Classical', 'Classical'],\n",
       "      dtype=object)"
      ]
     },
     "execution_count": 463,
     "metadata": {},
     "output_type": "execute_result"
    }
   ],
   "source": [
    "y.values"
   ]
  },
  {
   "cell_type": "code",
   "execution_count": 464,
   "id": "e092a2a3",
   "metadata": {},
   "outputs": [],
   "source": [
    "# Now that we have our INPUT SET & OUTPUT SET\n",
    "# We need to create our MODEL using a ML ALGORITHM\n",
    "\n",
    "# Here, we will use DECISION TREE algorithm.. using SciKit library"
   ]
  },
  {
   "cell_type": "code",
   "execution_count": 465,
   "id": "eb455023",
   "metadata": {},
   "outputs": [],
   "source": [
    "# Create a new INSTANCE of the DecisionTreeClassifier\n",
    "# model = DecisionTreeClassifier() \n",
    "\n",
    "# Now train the model to learn patterns\n",
    "# model.fit(X, y)  # fit() recognizes PATTERN in the INPUT set X & the OUTPUT set Y\n",
    "\n"
   ]
  },
  {
   "cell_type": "code",
   "execution_count": 466,
   "id": "bf90e845",
   "metadata": {},
   "outputs": [],
   "source": [
    "# Now we need to make our model predict the output after providing a sample input\n",
    "# The sample input would be hitherto unknown i.e not available so far\n",
    "# The predict() would return an OUTPUT based on the training sets alread available to the model\n",
    "\n",
    "# model.predict([[21,0], [23,1]])"
   ]
  },
  {
   "cell_type": "code",
   "execution_count": 467,
   "id": "66c1e698",
   "metadata": {},
   "outputs": [],
   "source": [
    "# We need to constantly MEASURE/CALCULATE the accuracy of our model\n",
    "# If our model is not accurate enough, we need to fine-tune our model or change our algorithm\n",
    "\n",
    "# We need to DIVIDE our available data-sets into two parts.. one for training & another for testing\n",
    "# 70-80% of the available data-set should be used for training.. rest for testing\n",
    "# So after building the model, we can use the testing data-set to do sample predictions of the output\n",
    "# Then we check the accuracy of the predictions against available testing data-set"
   ]
  },
  {
   "cell_type": "code",
   "execution_count": 468,
   "id": "43924ab9",
   "metadata": {},
   "outputs": [],
   "source": [
    "X_train, X_test, y_train, y_test = train_test_split(X, y, test_size=0.2) # test_train_split() takes our INPUT-OUTPUT set\n",
    "                                      # and divides that into 2 parts\n",
    "                                      # 1 part for TRAINING.. 2nd part for TESTING\n",
    "                                      # train_test_split() returns a TUPLE"
   ]
  },
  {
   "cell_type": "code",
   "execution_count": 469,
   "id": "05c630ce",
   "metadata": {},
   "outputs": [
    {
     "name": "stdout",
     "output_type": "stream",
     "text": [
      "    age  gender\n",
      "4    29       1\n",
      "3    26       1\n",
      "14   30       0\n",
      "12   26       0\n",
      "15   31       0\n",
      "5    30       1\n",
      "9    20       0\n",
      "11   25       0\n",
      "7    33       1\n",
      "6    31       1\n",
      "1    23       1\n",
      "17   35       0\n",
      "16   34       0\n",
      "2    25       1\n"
     ]
    }
   ],
   "source": [
    "print(X_train)"
   ]
  },
  {
   "cell_type": "code",
   "execution_count": 470,
   "id": "bb83ef77",
   "metadata": {},
   "outputs": [
    {
     "name": "stdout",
     "output_type": "stream",
     "text": [
      "    age  gender\n",
      "10   21       0\n",
      "13   27       0\n",
      "0    20       1\n",
      "8    37       1\n"
     ]
    }
   ],
   "source": [
    "print(X_test)"
   ]
  },
  {
   "cell_type": "code",
   "execution_count": 471,
   "id": "90c4d3fd",
   "metadata": {},
   "outputs": [
    {
     "name": "stdout",
     "output_type": "stream",
     "text": [
      "4          Jazz\n",
      "3          Jazz\n",
      "14     Acoustic\n",
      "12     Acoustic\n",
      "15    Classical\n",
      "5          Jazz\n",
      "9         Dance\n",
      "11        Dance\n",
      "7     Classical\n",
      "6     Classical\n",
      "1        HipHop\n",
      "17    Classical\n",
      "16    Classical\n",
      "2        HipHop\n",
      "Name: genre, dtype: object\n"
     ]
    }
   ],
   "source": [
    "print(y_train)"
   ]
  },
  {
   "cell_type": "code",
   "execution_count": 472,
   "id": "0c7927ff",
   "metadata": {},
   "outputs": [
    {
     "name": "stdout",
     "output_type": "stream",
     "text": [
      "10        Dance\n",
      "13     Acoustic\n",
      "0        HipHop\n",
      "8     Classical\n",
      "Name: genre, dtype: object\n"
     ]
    }
   ],
   "source": [
    "print(y_test)"
   ]
  },
  {
   "cell_type": "code",
   "execution_count": 473,
   "id": "87cd31e2",
   "metadata": {},
   "outputs": [
    {
     "data": {
      "text/plain": [
       "DecisionTreeClassifier()"
      ]
     },
     "execution_count": 473,
     "metadata": {},
     "output_type": "execute_result"
    }
   ],
   "source": [
    "model = DecisionTreeClassifier() # creates our model\n",
    "\n",
    "model.fit(X_train, y_train) # pass the training sets of the input & output"
   ]
  },
  {
   "cell_type": "code",
   "execution_count": 474,
   "id": "4646418d",
   "metadata": {},
   "outputs": [],
   "source": [
    "predictions = model.predict(X_test)  # pass the TESTING part of the INPUT dataset"
   ]
  },
  {
   "cell_type": "code",
   "execution_count": 475,
   "id": "ec7be245",
   "metadata": {},
   "outputs": [
    {
     "name": "stdout",
     "output_type": "stream",
     "text": [
      "Dance\n",
      "Acoustic\n",
      "HipHop\n",
      "Classical\n"
     ]
    }
   ],
   "source": [
    "for ch in predictions:\n",
    "    print(ch)"
   ]
  },
  {
   "cell_type": "code",
   "execution_count": 476,
   "id": "4393afe0",
   "metadata": {},
   "outputs": [
    {
     "name": "stdout",
     "output_type": "stream",
     "text": [
      "1.0\n"
     ]
    }
   ],
   "source": [
    "print(accuracy_score(y_test, predictions))\n",
    "\n",
    "# accuracy_score() returns the accuracy score after comparing two lists/arrays\n",
    "# normalize is By-Default set to True\n",
    "# if normalize is set to False, accuracy_score returns the number of CORRECTLY classified samples"
   ]
  }
 ],
 "metadata": {
  "kernelspec": {
   "display_name": "Python 3",
   "language": "python",
   "name": "python3"
  },
  "language_info": {
   "codemirror_mode": {
    "name": "ipython",
    "version": 3
   },
   "file_extension": ".py",
   "mimetype": "text/x-python",
   "name": "python",
   "nbconvert_exporter": "python",
   "pygments_lexer": "ipython3",
   "version": "3.8.8"
  }
 },
 "nbformat": 4,
 "nbformat_minor": 5
}
