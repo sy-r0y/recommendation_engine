{
 "cells": [
  {
   "cell_type": "code",
   "execution_count": 95,
   "id": "76e5352a",
   "metadata": {},
   "outputs": [],
   "source": [
    "# Music Recommendor Engine for online Music store\n",
    "# User signs up .. enters age, gender\n",
    "# The recommendor engine looks at the profile of user & recommends Music albums for selling\n",
    "# Using Machine Learning to increase Sales\n",
    "# Uses data of existing users... to recommend music for new users\n",
    "# Create a Model .. feed data of existing users.. recognize patterns of the data\n",
    "# When a new user signs up .. Model will recommend suggestions & make predictions\n",
    "# Model will recommend Music genres for new user based on his/her profile"
   ]
  },
  {
   "cell_type": "code",
   "execution_count": 96,
   "id": "7b5f56d3",
   "metadata": {},
   "outputs": [],
   "source": [
    "# STEPS :-\n",
    "# 1. Import Data\n",
    "# 2. Clean/Sanitize the data\n",
    "# 3. Split data into training set & test set\n",
    "# 4. Select ML algorithm to build a Model\n",
    "# 5. Train the Model to make predictions using training set & test set data\n",
    "# 6. Evaluate the result & improve/refine the Model or change the algorithm"
   ]
  },
  {
   "cell_type": "code",
   "execution_count": 97,
   "id": "b7e811ed",
   "metadata": {},
   "outputs": [
    {
     "data": {
      "text/html": [
       "<div>\n",
       "<style scoped>\n",
       "    .dataframe tbody tr th:only-of-type {\n",
       "        vertical-align: middle;\n",
       "    }\n",
       "\n",
       "    .dataframe tbody tr th {\n",
       "        vertical-align: top;\n",
       "    }\n",
       "\n",
       "    .dataframe thead th {\n",
       "        text-align: right;\n",
       "    }\n",
       "</style>\n",
       "<table border=\"1\" class=\"dataframe\">\n",
       "  <thead>\n",
       "    <tr style=\"text-align: right;\">\n",
       "      <th></th>\n",
       "      <th>age</th>\n",
       "      <th>gender</th>\n",
       "      <th>genre</th>\n",
       "    </tr>\n",
       "  </thead>\n",
       "  <tbody>\n",
       "    <tr>\n",
       "      <th>0</th>\n",
       "      <td>20</td>\n",
       "      <td>1</td>\n",
       "      <td>HipHop</td>\n",
       "    </tr>\n",
       "    <tr>\n",
       "      <th>1</th>\n",
       "      <td>23</td>\n",
       "      <td>1</td>\n",
       "      <td>HipHop</td>\n",
       "    </tr>\n",
       "    <tr>\n",
       "      <th>2</th>\n",
       "      <td>25</td>\n",
       "      <td>1</td>\n",
       "      <td>HipHop</td>\n",
       "    </tr>\n",
       "    <tr>\n",
       "      <th>3</th>\n",
       "      <td>26</td>\n",
       "      <td>1</td>\n",
       "      <td>Jazz</td>\n",
       "    </tr>\n",
       "    <tr>\n",
       "      <th>4</th>\n",
       "      <td>29</td>\n",
       "      <td>1</td>\n",
       "      <td>Jazz</td>\n",
       "    </tr>\n",
       "    <tr>\n",
       "      <th>5</th>\n",
       "      <td>30</td>\n",
       "      <td>1</td>\n",
       "      <td>Jazz</td>\n",
       "    </tr>\n",
       "    <tr>\n",
       "      <th>6</th>\n",
       "      <td>31</td>\n",
       "      <td>1</td>\n",
       "      <td>Classical</td>\n",
       "    </tr>\n",
       "    <tr>\n",
       "      <th>7</th>\n",
       "      <td>33</td>\n",
       "      <td>1</td>\n",
       "      <td>Classical</td>\n",
       "    </tr>\n",
       "    <tr>\n",
       "      <th>8</th>\n",
       "      <td>37</td>\n",
       "      <td>1</td>\n",
       "      <td>Classical</td>\n",
       "    </tr>\n",
       "    <tr>\n",
       "      <th>9</th>\n",
       "      <td>20</td>\n",
       "      <td>0</td>\n",
       "      <td>Dance</td>\n",
       "    </tr>\n",
       "    <tr>\n",
       "      <th>10</th>\n",
       "      <td>21</td>\n",
       "      <td>0</td>\n",
       "      <td>Dance</td>\n",
       "    </tr>\n",
       "    <tr>\n",
       "      <th>11</th>\n",
       "      <td>25</td>\n",
       "      <td>0</td>\n",
       "      <td>Dance</td>\n",
       "    </tr>\n",
       "    <tr>\n",
       "      <th>12</th>\n",
       "      <td>26</td>\n",
       "      <td>0</td>\n",
       "      <td>Acoustic</td>\n",
       "    </tr>\n",
       "    <tr>\n",
       "      <th>13</th>\n",
       "      <td>27</td>\n",
       "      <td>0</td>\n",
       "      <td>Acoustic</td>\n",
       "    </tr>\n",
       "    <tr>\n",
       "      <th>14</th>\n",
       "      <td>30</td>\n",
       "      <td>0</td>\n",
       "      <td>Acoustic</td>\n",
       "    </tr>\n",
       "    <tr>\n",
       "      <th>15</th>\n",
       "      <td>31</td>\n",
       "      <td>0</td>\n",
       "      <td>Classical</td>\n",
       "    </tr>\n",
       "    <tr>\n",
       "      <th>16</th>\n",
       "      <td>34</td>\n",
       "      <td>0</td>\n",
       "      <td>Classical</td>\n",
       "    </tr>\n",
       "    <tr>\n",
       "      <th>17</th>\n",
       "      <td>35</td>\n",
       "      <td>0</td>\n",
       "      <td>Classical</td>\n",
       "    </tr>\n",
       "  </tbody>\n",
       "</table>\n",
       "</div>"
      ],
      "text/plain": [
       "    age   gender       genre\n",
       "0    20        1      HipHop\n",
       "1    23        1      HipHop\n",
       "2    25        1      HipHop\n",
       "3    26        1        Jazz\n",
       "4    29        1        Jazz\n",
       "5    30        1        Jazz\n",
       "6    31        1   Classical\n",
       "7    33        1   Classical\n",
       "8    37        1   Classical\n",
       "9    20        0       Dance\n",
       "10   21        0       Dance\n",
       "11   25        0       Dance\n",
       "12   26        0    Acoustic\n",
       "13   27        0    Acoustic\n",
       "14   30        0    Acoustic\n",
       "15   31        0   Classical\n",
       "16   34        0   Classical\n",
       "17   35        0   Classical"
      ]
     },
     "execution_count": 97,
     "metadata": {},
     "output_type": "execute_result"
    }
   ],
   "source": [
    "import pandas as pd\n",
    "\n",
    "readcsv = pd.read_csv(\"D:\\\\Downloads Chrome\\\\music.csv\") # returns dataframe object\n",
    "\n",
    "readcsv"
   ]
  },
  {
   "cell_type": "code",
   "execution_count": 98,
   "id": "b9089f8f",
   "metadata": {},
   "outputs": [
    {
     "data": {
      "text/plain": [
       "<bound method NDFrame.describe of     age   gender       genre\n",
       "0    20        1      HipHop\n",
       "1    23        1      HipHop\n",
       "2    25        1      HipHop\n",
       "3    26        1        Jazz\n",
       "4    29        1        Jazz\n",
       "5    30        1        Jazz\n",
       "6    31        1   Classical\n",
       "7    33        1   Classical\n",
       "8    37        1   Classical\n",
       "9    20        0       Dance\n",
       "10   21        0       Dance\n",
       "11   25        0       Dance\n",
       "12   26        0    Acoustic\n",
       "13   27        0    Acoustic\n",
       "14   30        0    Acoustic\n",
       "15   31        0   Classical\n",
       "16   34        0   Classical\n",
       "17   35        0   Classical>"
      ]
     },
     "execution_count": 98,
     "metadata": {},
     "output_type": "execute_result"
    }
   ],
   "source": [
    "readcsv.describe"
   ]
  },
  {
   "cell_type": "code",
   "execution_count": 99,
   "id": "5cadf214",
   "metadata": {},
   "outputs": [
    {
     "data": {
      "text/plain": [
       "array([[20, 1, ' HipHop'],\n",
       "       [23, 1, ' HipHop'],\n",
       "       [25, 1, ' HipHop'],\n",
       "       [26, 1, ' Jazz'],\n",
       "       [29, 1, ' Jazz'],\n",
       "       [30, 1, ' Jazz'],\n",
       "       [31, 1, ' Classical'],\n",
       "       [33, 1, ' Classical'],\n",
       "       [37, 1, ' Classical'],\n",
       "       [20, 0, ' Dance'],\n",
       "       [21, 0, ' Dance'],\n",
       "       [25, 0, ' Dance'],\n",
       "       [26, 0, ' Acoustic'],\n",
       "       [27, 0, ' Acoustic'],\n",
       "       [30, 0, ' Acoustic'],\n",
       "       [31, 0, ' Classical'],\n",
       "       [34, 0, ' Classical'],\n",
       "       [35, 0, ' Classical']], dtype=object)"
      ]
     },
     "execution_count": 99,
     "metadata": {},
     "output_type": "execute_result"
    }
   ],
   "source": [
    "readcsv.values"
   ]
  },
  {
   "cell_type": "code",
   "execution_count": 100,
   "id": "384a91d4",
   "metadata": {},
   "outputs": [
    {
     "data": {
      "text/plain": [
       "(18, 3)"
      ]
     },
     "execution_count": 100,
     "metadata": {},
     "output_type": "execute_result"
    }
   ],
   "source": [
    "readcsv.shape"
   ]
  },
  {
   "cell_type": "code",
   "execution_count": 101,
   "id": "cc75875d",
   "metadata": {},
   "outputs": [
    {
     "data": {
      "text/html": [
       "<div>\n",
       "<style scoped>\n",
       "    .dataframe tbody tr th:only-of-type {\n",
       "        vertical-align: middle;\n",
       "    }\n",
       "\n",
       "    .dataframe tbody tr th {\n",
       "        vertical-align: top;\n",
       "    }\n",
       "\n",
       "    .dataframe thead th {\n",
       "        text-align: right;\n",
       "    }\n",
       "</style>\n",
       "<table border=\"1\" class=\"dataframe\">\n",
       "  <thead>\n",
       "    <tr style=\"text-align: right;\">\n",
       "      <th></th>\n",
       "      <th>age</th>\n",
       "      <th>gender</th>\n",
       "    </tr>\n",
       "  </thead>\n",
       "  <tbody>\n",
       "    <tr>\n",
       "      <th>count</th>\n",
       "      <td>18.000000</td>\n",
       "      <td>18.000000</td>\n",
       "    </tr>\n",
       "    <tr>\n",
       "      <th>mean</th>\n",
       "      <td>27.944444</td>\n",
       "      <td>0.500000</td>\n",
       "    </tr>\n",
       "    <tr>\n",
       "      <th>std</th>\n",
       "      <td>5.127460</td>\n",
       "      <td>0.514496</td>\n",
       "    </tr>\n",
       "    <tr>\n",
       "      <th>min</th>\n",
       "      <td>20.000000</td>\n",
       "      <td>0.000000</td>\n",
       "    </tr>\n",
       "    <tr>\n",
       "      <th>25%</th>\n",
       "      <td>25.000000</td>\n",
       "      <td>0.000000</td>\n",
       "    </tr>\n",
       "    <tr>\n",
       "      <th>50%</th>\n",
       "      <td>28.000000</td>\n",
       "      <td>0.500000</td>\n",
       "    </tr>\n",
       "    <tr>\n",
       "      <th>75%</th>\n",
       "      <td>31.000000</td>\n",
       "      <td>1.000000</td>\n",
       "    </tr>\n",
       "    <tr>\n",
       "      <th>max</th>\n",
       "      <td>37.000000</td>\n",
       "      <td>1.000000</td>\n",
       "    </tr>\n",
       "  </tbody>\n",
       "</table>\n",
       "</div>"
      ],
      "text/plain": [
       "             age     gender\n",
       "count  18.000000  18.000000\n",
       "mean   27.944444   0.500000\n",
       "std     5.127460   0.514496\n",
       "min    20.000000   0.000000\n",
       "25%    25.000000   0.000000\n",
       "50%    28.000000   0.500000\n",
       "75%    31.000000   1.000000\n",
       "max    37.000000   1.000000"
      ]
     },
     "execution_count": 101,
     "metadata": {},
     "output_type": "execute_result"
    }
   ],
   "source": [
    "readcsv.describe()"
   ]
  },
  {
   "cell_type": "code",
   "execution_count": 102,
   "id": "afb291bb",
   "metadata": {},
   "outputs": [
    {
     "data": {
      "text/plain": [
       "age         int64\n",
       " gender     int64\n",
       " genre     object\n",
       "dtype: object"
      ]
     },
     "execution_count": 102,
     "metadata": {},
     "output_type": "execute_result"
    }
   ],
   "source": [
    "readcsv.dtypes"
   ]
  },
  {
   "cell_type": "code",
   "execution_count": 103,
   "id": "e4ec9bfc",
   "metadata": {},
   "outputs": [
    {
     "data": {
      "text/plain": [
       "array([[20, 1, ' HipHop'],\n",
       "       [23, 1, ' HipHop'],\n",
       "       [25, 1, ' HipHop'],\n",
       "       [26, 1, ' Jazz'],\n",
       "       [29, 1, ' Jazz'],\n",
       "       [30, 1, ' Jazz'],\n",
       "       [31, 1, ' Classical'],\n",
       "       [33, 1, ' Classical'],\n",
       "       [37, 1, ' Classical'],\n",
       "       [20, 0, ' Dance'],\n",
       "       [21, 0, ' Dance'],\n",
       "       [25, 0, ' Dance'],\n",
       "       [26, 0, ' Acoustic'],\n",
       "       [27, 0, ' Acoustic'],\n",
       "       [30, 0, ' Acoustic'],\n",
       "       [31, 0, ' Classical'],\n",
       "       [34, 0, ' Classical'],\n",
       "       [35, 0, ' Classical']], dtype=object)"
      ]
     },
     "execution_count": 103,
     "metadata": {},
     "output_type": "execute_result"
    }
   ],
   "source": [
    "readcsv.to_numpy()"
   ]
  },
  {
   "cell_type": "code",
   "execution_count": 104,
   "id": "e3d75243",
   "metadata": {},
   "outputs": [
    {
     "data": {
      "text/plain": [
       "array([[20, 1, ' HipHop'],\n",
       "       [23, 1, ' HipHop'],\n",
       "       [25, 1, ' HipHop'],\n",
       "       [26, 1, ' Jazz'],\n",
       "       [29, 1, ' Jazz'],\n",
       "       [30, 1, ' Jazz'],\n",
       "       [31, 1, ' Classical'],\n",
       "       [33, 1, ' Classical'],\n",
       "       [37, 1, ' Classical'],\n",
       "       [20, 0, ' Dance'],\n",
       "       [21, 0, ' Dance'],\n",
       "       [25, 0, ' Dance'],\n",
       "       [26, 0, ' Acoustic'],\n",
       "       [27, 0, ' Acoustic'],\n",
       "       [30, 0, ' Acoustic'],\n",
       "       [31, 0, ' Classical'],\n",
       "       [34, 0, ' Classical'],\n",
       "       [35, 0, ' Classical']], dtype=object)"
      ]
     },
     "execution_count": 104,
     "metadata": {},
     "output_type": "execute_result"
    }
   ],
   "source": [
    "readcsv.values"
   ]
  },
  {
   "cell_type": "code",
   "execution_count": 105,
   "id": "ec5ed5cb",
   "metadata": {},
   "outputs": [
    {
     "data": {
      "text/plain": [
       "RangeIndex(start=0, stop=18, step=1)"
      ]
     },
     "execution_count": 105,
     "metadata": {},
     "output_type": "execute_result"
    }
   ],
   "source": [
    "readcsv.index"
   ]
  },
  {
   "cell_type": "code",
   "execution_count": 106,
   "id": "7990c972",
   "metadata": {},
   "outputs": [
    {
     "data": {
      "text/plain": [
       "<bound method NDFrame.head of     age   gender       genre\n",
       "0    20        1      HipHop\n",
       "1    23        1      HipHop\n",
       "2    25        1      HipHop\n",
       "3    26        1        Jazz\n",
       "4    29        1        Jazz\n",
       "5    30        1        Jazz\n",
       "6    31        1   Classical\n",
       "7    33        1   Classical\n",
       "8    37        1   Classical\n",
       "9    20        0       Dance\n",
       "10   21        0       Dance\n",
       "11   25        0       Dance\n",
       "12   26        0    Acoustic\n",
       "13   27        0    Acoustic\n",
       "14   30        0    Acoustic\n",
       "15   31        0   Classical\n",
       "16   34        0   Classical\n",
       "17   35        0   Classical>"
      ]
     },
     "execution_count": 106,
     "metadata": {},
     "output_type": "execute_result"
    }
   ],
   "source": [
    "readcsv.head"
   ]
  },
  {
   "cell_type": "code",
   "execution_count": 107,
   "id": "6bd9abed",
   "metadata": {},
   "outputs": [
    {
     "data": {
      "text/plain": [
       "Index(['age', ' gender', ' genre'], dtype='object')"
      ]
     },
     "execution_count": 107,
     "metadata": {},
     "output_type": "execute_result"
    }
   ],
   "source": [
    "readcsv.columns"
   ]
  },
  {
   "cell_type": "code",
   "execution_count": 108,
   "id": "164bc7ea",
   "metadata": {},
   "outputs": [
    {
     "data": {
      "text/plain": [
       "<bound method NDFrame.abs of     age   gender       genre\n",
       "0    20        1      HipHop\n",
       "1    23        1      HipHop\n",
       "2    25        1      HipHop\n",
       "3    26        1        Jazz\n",
       "4    29        1        Jazz\n",
       "5    30        1        Jazz\n",
       "6    31        1   Classical\n",
       "7    33        1   Classical\n",
       "8    37        1   Classical\n",
       "9    20        0       Dance\n",
       "10   21        0       Dance\n",
       "11   25        0       Dance\n",
       "12   26        0    Acoustic\n",
       "13   27        0    Acoustic\n",
       "14   30        0    Acoustic\n",
       "15   31        0   Classical\n",
       "16   34        0   Classical\n",
       "17   35        0   Classical>"
      ]
     },
     "execution_count": 108,
     "metadata": {},
     "output_type": "execute_result"
    }
   ],
   "source": [
    "readcsv.abs"
   ]
  },
  {
   "cell_type": "code",
   "execution_count": 109,
   "id": "890b518f",
   "metadata": {},
   "outputs": [
    {
     "data": {
      "text/plain": [
       "<bound method DataFrame.lookup of     age   gender       genre\n",
       "0    20        1      HipHop\n",
       "1    23        1      HipHop\n",
       "2    25        1      HipHop\n",
       "3    26        1        Jazz\n",
       "4    29        1        Jazz\n",
       "5    30        1        Jazz\n",
       "6    31        1   Classical\n",
       "7    33        1   Classical\n",
       "8    37        1   Classical\n",
       "9    20        0       Dance\n",
       "10   21        0       Dance\n",
       "11   25        0       Dance\n",
       "12   26        0    Acoustic\n",
       "13   27        0    Acoustic\n",
       "14   30        0    Acoustic\n",
       "15   31        0   Classical\n",
       "16   34        0   Classical\n",
       "17   35        0   Classical>"
      ]
     },
     "execution_count": 109,
     "metadata": {},
     "output_type": "execute_result"
    }
   ],
   "source": [
    "readcsv.lookup"
   ]
  },
  {
   "cell_type": "code",
   "execution_count": 110,
   "id": "57b60265",
   "metadata": {},
   "outputs": [
    {
     "data": {
      "text/html": [
       "<div>\n",
       "<style scoped>\n",
       "    .dataframe tbody tr th:only-of-type {\n",
       "        vertical-align: middle;\n",
       "    }\n",
       "\n",
       "    .dataframe tbody tr th {\n",
       "        vertical-align: top;\n",
       "    }\n",
       "\n",
       "    .dataframe thead th {\n",
       "        text-align: right;\n",
       "    }\n",
       "</style>\n",
       "<table border=\"1\" class=\"dataframe\">\n",
       "  <thead>\n",
       "    <tr style=\"text-align: right;\">\n",
       "      <th></th>\n",
       "      <th>age</th>\n",
       "      <th>gender</th>\n",
       "      <th>genre</th>\n",
       "    </tr>\n",
       "  </thead>\n",
       "  <tbody>\n",
       "    <tr>\n",
       "      <th>0</th>\n",
       "      <td>20</td>\n",
       "      <td>1</td>\n",
       "      <td>HipHop</td>\n",
       "    </tr>\n",
       "    <tr>\n",
       "      <th>1</th>\n",
       "      <td>23</td>\n",
       "      <td>1</td>\n",
       "      <td>HipHop</td>\n",
       "    </tr>\n",
       "    <tr>\n",
       "      <th>2</th>\n",
       "      <td>25</td>\n",
       "      <td>1</td>\n",
       "      <td>HipHop</td>\n",
       "    </tr>\n",
       "    <tr>\n",
       "      <th>3</th>\n",
       "      <td>26</td>\n",
       "      <td>1</td>\n",
       "      <td>Jazz</td>\n",
       "    </tr>\n",
       "    <tr>\n",
       "      <th>4</th>\n",
       "      <td>29</td>\n",
       "      <td>1</td>\n",
       "      <td>Jazz</td>\n",
       "    </tr>\n",
       "    <tr>\n",
       "      <th>5</th>\n",
       "      <td>30</td>\n",
       "      <td>1</td>\n",
       "      <td>Jazz</td>\n",
       "    </tr>\n",
       "    <tr>\n",
       "      <th>6</th>\n",
       "      <td>31</td>\n",
       "      <td>1</td>\n",
       "      <td>Classical</td>\n",
       "    </tr>\n",
       "    <tr>\n",
       "      <th>7</th>\n",
       "      <td>33</td>\n",
       "      <td>1</td>\n",
       "      <td>Classical</td>\n",
       "    </tr>\n",
       "    <tr>\n",
       "      <th>8</th>\n",
       "      <td>37</td>\n",
       "      <td>1</td>\n",
       "      <td>Classical</td>\n",
       "    </tr>\n",
       "    <tr>\n",
       "      <th>9</th>\n",
       "      <td>20</td>\n",
       "      <td>0</td>\n",
       "      <td>Dance</td>\n",
       "    </tr>\n",
       "    <tr>\n",
       "      <th>10</th>\n",
       "      <td>21</td>\n",
       "      <td>0</td>\n",
       "      <td>Dance</td>\n",
       "    </tr>\n",
       "    <tr>\n",
       "      <th>11</th>\n",
       "      <td>25</td>\n",
       "      <td>0</td>\n",
       "      <td>Dance</td>\n",
       "    </tr>\n",
       "    <tr>\n",
       "      <th>12</th>\n",
       "      <td>26</td>\n",
       "      <td>0</td>\n",
       "      <td>Acoustic</td>\n",
       "    </tr>\n",
       "    <tr>\n",
       "      <th>13</th>\n",
       "      <td>27</td>\n",
       "      <td>0</td>\n",
       "      <td>Acoustic</td>\n",
       "    </tr>\n",
       "    <tr>\n",
       "      <th>14</th>\n",
       "      <td>30</td>\n",
       "      <td>0</td>\n",
       "      <td>Acoustic</td>\n",
       "    </tr>\n",
       "    <tr>\n",
       "      <th>15</th>\n",
       "      <td>31</td>\n",
       "      <td>0</td>\n",
       "      <td>Classical</td>\n",
       "    </tr>\n",
       "    <tr>\n",
       "      <th>16</th>\n",
       "      <td>34</td>\n",
       "      <td>0</td>\n",
       "      <td>Classical</td>\n",
       "    </tr>\n",
       "    <tr>\n",
       "      <th>17</th>\n",
       "      <td>35</td>\n",
       "      <td>0</td>\n",
       "      <td>Classical</td>\n",
       "    </tr>\n",
       "  </tbody>\n",
       "</table>\n",
       "</div>"
      ],
      "text/plain": [
       "    age   gender       genre\n",
       "0    20        1      HipHop\n",
       "1    23        1      HipHop\n",
       "2    25        1      HipHop\n",
       "3    26        1        Jazz\n",
       "4    29        1        Jazz\n",
       "5    30        1        Jazz\n",
       "6    31        1   Classical\n",
       "7    33        1   Classical\n",
       "8    37        1   Classical\n",
       "9    20        0       Dance\n",
       "10   21        0       Dance\n",
       "11   25        0       Dance\n",
       "12   26        0    Acoustic\n",
       "13   27        0    Acoustic\n",
       "14   30        0    Acoustic\n",
       "15   31        0   Classical\n",
       "16   34        0   Classical\n",
       "17   35        0   Classical"
      ]
     },
     "execution_count": 110,
     "metadata": {},
     "output_type": "execute_result"
    }
   ],
   "source": [
    "# Now let us inspect the data-frame object (readcsv .. make sure the data is loaded properly\n",
    "\n",
    "readcsv"
   ]
  },
  {
   "cell_type": "code",
   "execution_count": 111,
   "id": "1132a412",
   "metadata": {},
   "outputs": [],
   "source": [
    "# Now let us prepare the data-frame i.e clean it up i.e remove duplicates, remove null values etc\n",
    "# Since current csv data does not have any duplicates, nulls.. so we don't need to prepare it\n",
    "\n",
    "# Let us Split this data-set into 2 separate data-sets... INPUT SET & OUTPUT SET \n",
    "# Here, the Age & Gender would be INPUT set.. the Genre would be OUTPUT set\n",
    "# Age, Gender would be the input to the Model.. to predict the OUTPUT i.e Genre\n",
    "# Training any Model .. requires 2 sets .. INPUT set & OUTPUT set\n",
    "# Model would be trained to predict the OUTPUT set after receiving INPUT set"
   ]
  },
  {
   "cell_type": "code",
   "execution_count": 112,
   "id": "147c039a",
   "metadata": {},
   "outputs": [],
   "source": [
    " #X= readcsv.drop(\"genre\", axis=1, inplace=True)\n",
    "# X"
   ]
  },
  {
   "cell_type": "code",
   "execution_count": 115,
   "id": "58ee5705",
   "metadata": {},
   "outputs": [],
   "source": [
    "#X = readcsv.drop(columns=['genre'], axis=1)"
   ]
  },
  {
   "cell_type": "code",
   "execution_count": 116,
   "id": "bd0f5650",
   "metadata": {},
   "outputs": [
    {
     "ename": "KeyError",
     "evalue": "'genre'",
     "output_type": "error",
     "traceback": [
      "\u001b[1;31m---------------------------------------------------------------------------\u001b[0m",
      "\u001b[1;31mKeyError\u001b[0m                                  Traceback (most recent call last)",
      "\u001b[1;32mD:\\ANACONDA\\lib\\site-packages\\pandas\\core\\indexes\\base.py\u001b[0m in \u001b[0;36mget_loc\u001b[1;34m(self, key, method, tolerance)\u001b[0m\n\u001b[0;32m   3079\u001b[0m             \u001b[1;32mtry\u001b[0m\u001b[1;33m:\u001b[0m\u001b[1;33m\u001b[0m\u001b[1;33m\u001b[0m\u001b[0m\n\u001b[1;32m-> 3080\u001b[1;33m                 \u001b[1;32mreturn\u001b[0m \u001b[0mself\u001b[0m\u001b[1;33m.\u001b[0m\u001b[0m_engine\u001b[0m\u001b[1;33m.\u001b[0m\u001b[0mget_loc\u001b[0m\u001b[1;33m(\u001b[0m\u001b[0mcasted_key\u001b[0m\u001b[1;33m)\u001b[0m\u001b[1;33m\u001b[0m\u001b[1;33m\u001b[0m\u001b[0m\n\u001b[0m\u001b[0;32m   3081\u001b[0m             \u001b[1;32mexcept\u001b[0m \u001b[0mKeyError\u001b[0m \u001b[1;32mas\u001b[0m \u001b[0merr\u001b[0m\u001b[1;33m:\u001b[0m\u001b[1;33m\u001b[0m\u001b[1;33m\u001b[0m\u001b[0m\n",
      "\u001b[1;32mpandas\\_libs\\index.pyx\u001b[0m in \u001b[0;36mpandas._libs.index.IndexEngine.get_loc\u001b[1;34m()\u001b[0m\n",
      "\u001b[1;32mpandas\\_libs\\index.pyx\u001b[0m in \u001b[0;36mpandas._libs.index.IndexEngine.get_loc\u001b[1;34m()\u001b[0m\n",
      "\u001b[1;32mpandas\\_libs\\hashtable_class_helper.pxi\u001b[0m in \u001b[0;36mpandas._libs.hashtable.PyObjectHashTable.get_item\u001b[1;34m()\u001b[0m\n",
      "\u001b[1;32mpandas\\_libs\\hashtable_class_helper.pxi\u001b[0m in \u001b[0;36mpandas._libs.hashtable.PyObjectHashTable.get_item\u001b[1;34m()\u001b[0m\n",
      "\u001b[1;31mKeyError\u001b[0m: 'genre'",
      "\nThe above exception was the direct cause of the following exception:\n",
      "\u001b[1;31mKeyError\u001b[0m                                  Traceback (most recent call last)",
      "\u001b[1;32m<ipython-input-116-00fd1e0a4265>\u001b[0m in \u001b[0;36m<module>\u001b[1;34m\u001b[0m\n\u001b[1;32m----> 1\u001b[1;33m \u001b[0mY\u001b[0m \u001b[1;33m=\u001b[0m \u001b[0mreadcsv\u001b[0m\u001b[1;33m[\u001b[0m\u001b[1;34m'genre'\u001b[0m\u001b[1;33m]\u001b[0m\u001b[1;33m\u001b[0m\u001b[1;33m\u001b[0m\u001b[0m\n\u001b[0m\u001b[0;32m      2\u001b[0m \u001b[0mY\u001b[0m\u001b[1;33m\u001b[0m\u001b[1;33m\u001b[0m\u001b[0m\n",
      "\u001b[1;32mD:\\ANACONDA\\lib\\site-packages\\pandas\\core\\frame.py\u001b[0m in \u001b[0;36m__getitem__\u001b[1;34m(self, key)\u001b[0m\n\u001b[0;32m   3022\u001b[0m             \u001b[1;32mif\u001b[0m \u001b[0mself\u001b[0m\u001b[1;33m.\u001b[0m\u001b[0mcolumns\u001b[0m\u001b[1;33m.\u001b[0m\u001b[0mnlevels\u001b[0m \u001b[1;33m>\u001b[0m \u001b[1;36m1\u001b[0m\u001b[1;33m:\u001b[0m\u001b[1;33m\u001b[0m\u001b[1;33m\u001b[0m\u001b[0m\n\u001b[0;32m   3023\u001b[0m                 \u001b[1;32mreturn\u001b[0m \u001b[0mself\u001b[0m\u001b[1;33m.\u001b[0m\u001b[0m_getitem_multilevel\u001b[0m\u001b[1;33m(\u001b[0m\u001b[0mkey\u001b[0m\u001b[1;33m)\u001b[0m\u001b[1;33m\u001b[0m\u001b[1;33m\u001b[0m\u001b[0m\n\u001b[1;32m-> 3024\u001b[1;33m             \u001b[0mindexer\u001b[0m \u001b[1;33m=\u001b[0m \u001b[0mself\u001b[0m\u001b[1;33m.\u001b[0m\u001b[0mcolumns\u001b[0m\u001b[1;33m.\u001b[0m\u001b[0mget_loc\u001b[0m\u001b[1;33m(\u001b[0m\u001b[0mkey\u001b[0m\u001b[1;33m)\u001b[0m\u001b[1;33m\u001b[0m\u001b[1;33m\u001b[0m\u001b[0m\n\u001b[0m\u001b[0;32m   3025\u001b[0m             \u001b[1;32mif\u001b[0m \u001b[0mis_integer\u001b[0m\u001b[1;33m(\u001b[0m\u001b[0mindexer\u001b[0m\u001b[1;33m)\u001b[0m\u001b[1;33m:\u001b[0m\u001b[1;33m\u001b[0m\u001b[1;33m\u001b[0m\u001b[0m\n\u001b[0;32m   3026\u001b[0m                 \u001b[0mindexer\u001b[0m \u001b[1;33m=\u001b[0m \u001b[1;33m[\u001b[0m\u001b[0mindexer\u001b[0m\u001b[1;33m]\u001b[0m\u001b[1;33m\u001b[0m\u001b[1;33m\u001b[0m\u001b[0m\n",
      "\u001b[1;32mD:\\ANACONDA\\lib\\site-packages\\pandas\\core\\indexes\\base.py\u001b[0m in \u001b[0;36mget_loc\u001b[1;34m(self, key, method, tolerance)\u001b[0m\n\u001b[0;32m   3080\u001b[0m                 \u001b[1;32mreturn\u001b[0m \u001b[0mself\u001b[0m\u001b[1;33m.\u001b[0m\u001b[0m_engine\u001b[0m\u001b[1;33m.\u001b[0m\u001b[0mget_loc\u001b[0m\u001b[1;33m(\u001b[0m\u001b[0mcasted_key\u001b[0m\u001b[1;33m)\u001b[0m\u001b[1;33m\u001b[0m\u001b[1;33m\u001b[0m\u001b[0m\n\u001b[0;32m   3081\u001b[0m             \u001b[1;32mexcept\u001b[0m \u001b[0mKeyError\u001b[0m \u001b[1;32mas\u001b[0m \u001b[0merr\u001b[0m\u001b[1;33m:\u001b[0m\u001b[1;33m\u001b[0m\u001b[1;33m\u001b[0m\u001b[0m\n\u001b[1;32m-> 3082\u001b[1;33m                 \u001b[1;32mraise\u001b[0m \u001b[0mKeyError\u001b[0m\u001b[1;33m(\u001b[0m\u001b[0mkey\u001b[0m\u001b[1;33m)\u001b[0m \u001b[1;32mfrom\u001b[0m \u001b[0merr\u001b[0m\u001b[1;33m\u001b[0m\u001b[1;33m\u001b[0m\u001b[0m\n\u001b[0m\u001b[0;32m   3083\u001b[0m \u001b[1;33m\u001b[0m\u001b[0m\n\u001b[0;32m   3084\u001b[0m         \u001b[1;32mif\u001b[0m \u001b[0mtolerance\u001b[0m \u001b[1;32mis\u001b[0m \u001b[1;32mnot\u001b[0m \u001b[1;32mNone\u001b[0m\u001b[1;33m:\u001b[0m\u001b[1;33m\u001b[0m\u001b[1;33m\u001b[0m\u001b[0m\n",
      "\u001b[1;31mKeyError\u001b[0m: 'genre'"
     ]
    }
   ],
   "source": [
    "Y = readcsv['genre']\n",
    "Y"
   ]
  },
  {
   "cell_type": "code",
   "execution_count": null,
   "id": "ad05c797",
   "metadata": {},
   "outputs": [],
   "source": []
  }
 ],
 "metadata": {
  "kernelspec": {
   "display_name": "Python 3",
   "language": "python",
   "name": "python3"
  },
  "language_info": {
   "codemirror_mode": {
    "name": "ipython",
    "version": 3
   },
   "file_extension": ".py",
   "mimetype": "text/x-python",
   "name": "python",
   "nbconvert_exporter": "python",
   "pygments_lexer": "ipython3",
   "version": "3.8.8"
  }
 },
 "nbformat": 4,
 "nbformat_minor": 5
}
